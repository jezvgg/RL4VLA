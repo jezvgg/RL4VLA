{
 "cells": [
  {
   "cell_type": "code",
   "execution_count": 14,
   "id": "dc4bd5f5",
   "metadata": {},
   "outputs": [
    {
     "name": "stdout",
     "output_type": "stream",
     "text": [
      "Sat Sep 13 20:10:22 2025       \n",
      "+-----------------------------------------------------------------------------------------+\n",
      "| NVIDIA-SMI 565.77                 Driver Version: 565.77         CUDA Version: 12.7     |\n",
      "|-----------------------------------------+------------------------+----------------------+\n",
      "| GPU  Name                 Persistence-M | Bus-Id          Disp.A | Volatile Uncorr. ECC |\n",
      "| Fan  Temp   Perf          Pwr:Usage/Cap |           Memory-Usage | GPU-Util  Compute M. |\n",
      "|                                         |                        |               MIG M. |\n",
      "|=========================================+========================+======================|\n",
      "|   0  NVIDIA GeForce GTX 1050        Off |   00000000:03:00.0 Off |                  N/A |\n",
      "| 37%   28C    P8             N/A /   75W |      10MiB /   2048MiB |      0%      Default |\n",
      "|                                         |                        |                  N/A |\n",
      "+-----------------------------------------+------------------------+----------------------+\n",
      "|   1  NVIDIA GeForce RTX 3070 Ti     Off |   00000000:06:00.0  On |                  N/A |\n",
      "|  0%   48C    P5             47W /  310W |    5678MiB /   8192MiB |      6%      Default |\n",
      "|                                         |                        |                  N/A |\n",
      "+-----------------------------------------+------------------------+----------------------+\n",
      "                                                                                         \n",
      "+-----------------------------------------------------------------------------------------+\n",
      "| Processes:                                                                              |\n",
      "|  GPU   GI   CI        PID   Type   Process name                              GPU Memory |\n",
      "|        ID   ID                                                               Usage      |\n",
      "|=========================================================================================|\n",
      "|    0   N/A  N/A      4253      G   /usr/lib/xorg/Xorg                              4MiB |\n",
      "|    1   N/A  N/A      4253      G   /usr/lib/xorg/Xorg                            269MiB |\n",
      "|    1   N/A  N/A      4399      G   /usr/bin/gnome-shell                          206MiB |\n",
      "|    1   N/A  N/A     19549      G   telegram-desktop                                3MiB |\n",
      "|    1   N/A  N/A     21270      G   firefox                                       252MiB |\n",
      "|    1   N/A  N/A     44836      G   /usr/share/code/code                          173MiB |\n",
      "|    1   N/A  N/A     45604      C   ...zv/Projects/RL4VLA/.venv/bin/python       4674MiB |\n",
      "+-----------------------------------------------------------------------------------------+\n"
     ]
    }
   ],
   "source": [
    "!nvidia-smi"
   ]
  },
  {
   "cell_type": "markdown",
   "id": "eec8c01a",
   "metadata": {},
   "source": [
    "Сюда нужно будет написать настройку окружения"
   ]
  },
  {
   "cell_type": "code",
   "execution_count": 1,
   "id": "390008fb",
   "metadata": {},
   "outputs": [
    {
     "name": "stdout",
     "output_type": "stream",
     "text": [
      "\u001b[2mResolved \u001b[1m90 packages\u001b[0m \u001b[2min 0.75ms\u001b[0m\u001b[0m\n",
      "\u001b[2mUninstalled \u001b[1m37 packages\u001b[0m \u001b[2min 87ms\u001b[0m\u001b[0m\n",
      "\u001b[2K\u001b[2mInstalled \u001b[1m1 package\u001b[0m \u001b[2min 16ms\u001b[0m\u001b[0m                                 \u001b[0m\n",
      " \u001b[31m-\u001b[39m \u001b[1mabsl-py\u001b[0m\u001b[2m==2.3.1\u001b[0m\n",
      " \u001b[31m-\u001b[39m \u001b[1marm-pytorch-utilities\u001b[0m\u001b[2m==0.4.3\u001b[0m\n",
      " \u001b[31m-\u001b[39m \u001b[1mcloudpickle\u001b[0m\u001b[2m==3.1.1\u001b[0m\n",
      " \u001b[31m-\u001b[39m \u001b[1mdacite\u001b[0m\u001b[2m==1.9.2\u001b[0m\n",
      " \u001b[31m-\u001b[39m \u001b[1mdocstring-parser\u001b[0m\u001b[2m==0.17.0\u001b[0m\n",
      " \u001b[31m-\u001b[39m \u001b[1mfarama-notifications\u001b[0m\u001b[2m==0.0.4\u001b[0m\n",
      " \u001b[31m-\u001b[39m \u001b[1mfast-kinematics\u001b[0m\u001b[2m==0.2.2\u001b[0m\n",
      " \u001b[31m-\u001b[39m \u001b[1mgitdb\u001b[0m\u001b[2m==4.0.12\u001b[0m\n",
      " \u001b[31m-\u001b[39m \u001b[1mgitpython\u001b[0m\u001b[2m==3.1.45\u001b[0m\n",
      " \u001b[31m-\u001b[39m \u001b[1mgymnasium\u001b[0m\u001b[2m==0.29.1\u001b[0m\n",
      " \u001b[31m-\u001b[39m \u001b[1mh5py\u001b[0m\u001b[2m==3.14.0\u001b[0m\n",
      " \u001b[31m-\u001b[39m \u001b[1mimageio\u001b[0m\u001b[2m==2.37.0\u001b[0m\n",
      " \u001b[31m-\u001b[39m \u001b[1mimageio-ffmpeg\u001b[0m\u001b[2m==0.6.0\u001b[0m\n",
      " \u001b[31m-\u001b[39m \u001b[1mlxml\u001b[0m\u001b[2m==6.0.1\u001b[0m\n",
      " \u001b[31m-\u001b[39m \u001b[1mmani-skill\u001b[0m\u001b[2m==3.0.0b20 (from file:///home/jezv/Projects/RL4VLA/ManiSkill)\u001b[0m\n",
      " \u001b[31m-\u001b[39m \u001b[1mmarkdown-it-py\u001b[0m\u001b[2m==4.0.0\u001b[0m\n",
      " \u001b[31m-\u001b[39m \u001b[1mmdurl\u001b[0m\u001b[2m==0.1.2\u001b[0m\n",
      " \u001b[31m-\u001b[39m \u001b[1mmplib\u001b[0m\u001b[2m==0.1.1\u001b[0m\n",
      " \u001b[31m-\u001b[39m \u001b[1mnumpy\u001b[0m\u001b[2m==1.26.4\u001b[0m\n",
      " \u001b[32m+\u001b[39m \u001b[1mnumpy\u001b[0m\u001b[2m==2.2.6\u001b[0m\n",
      " \u001b[31m-\u001b[39m \u001b[1mnvidia-ml-py\u001b[0m\u001b[2m==13.580.82\u001b[0m\n",
      " \u001b[31m-\u001b[39m \u001b[1mopencv-python\u001b[0m\u001b[2m==4.11.0.86\u001b[0m\n",
      " \u001b[31m-\u001b[39m \u001b[1mpynvml\u001b[0m\u001b[2m==13.0.1\u001b[0m\n",
      " \u001b[31m-\u001b[39m \u001b[1mpyperclip\u001b[0m\u001b[2m==1.9.0\u001b[0m\n",
      " \u001b[31m-\u001b[39m \u001b[1mpytorch-kinematics\u001b[0m\u001b[2m==0.7.5\u001b[0m\n",
      " \u001b[31m-\u001b[39m \u001b[1mpytorch-seed\u001b[0m\u001b[2m==0.2.0\u001b[0m\n",
      " \u001b[31m-\u001b[39m \u001b[1mrich\u001b[0m\u001b[2m==14.1.0\u001b[0m\n",
      " \u001b[31m-\u001b[39m \u001b[1msapien\u001b[0m\u001b[2m==3.0.0b1\u001b[0m\n",
      " \u001b[31m-\u001b[39m \u001b[1mscipy\u001b[0m\u001b[2m==1.15.3\u001b[0m\n",
      " \u001b[31m-\u001b[39m \u001b[1mshtab\u001b[0m\u001b[2m==1.7.2\u001b[0m\n",
      " \u001b[31m-\u001b[39m \u001b[1msimpler-env\u001b[0m\u001b[2m==0.0.1 (from file:///home/jezv/Projects/RL4VLA/SimplerEnv)\u001b[0m\n",
      " \u001b[31m-\u001b[39m \u001b[1msmmap\u001b[0m\u001b[2m==5.0.2\u001b[0m\n",
      " \u001b[31m-\u001b[39m \u001b[1mtabulate\u001b[0m\u001b[2m==0.9.0\u001b[0m\n",
      " \u001b[31m-\u001b[39m \u001b[1mtoppra\u001b[0m\u001b[2m==0.6.3\u001b[0m\n",
      " \u001b[31m-\u001b[39m \u001b[1mtransforms3d\u001b[0m\u001b[2m==0.4.2\u001b[0m\n",
      " \u001b[31m-\u001b[39m \u001b[1mtrimesh\u001b[0m\u001b[2m==4.8.1\u001b[0m\n",
      " \u001b[31m-\u001b[39m \u001b[1mtypeguard\u001b[0m\u001b[2m==4.4.4\u001b[0m\n",
      " \u001b[31m-\u001b[39m \u001b[1mtyro\u001b[0m\u001b[2m==0.9.31\u001b[0m\n",
      "\u001b[2mUsing Python 3.10.12 environment at: /home/jezv/Projects/RL4VLA/.venv\u001b[0m\n",
      "\u001b[2K\u001b[2mResolved \u001b[1m97 packages\u001b[0m \u001b[2min 1.22s\u001b[0m\u001b[0m                                        \u001b[0m\n",
      "\u001b[2K   \u001b[36m\u001b[1mBuilding\u001b[0m\u001b[39m mani-skill\u001b[2m @ file:///home/jezv/Projects/RL4VLA/ManiSkill\u001b[0m   \n",
      "\u001b[2K\u001b[1A      \u001b[32m\u001b[1mBuilt\u001b[0m\u001b[39m mani-skill\u001b[2m @ file:///home/jezv/Projects/RL4VLA/ManiSkill\u001b[0m\n",
      "\u001b[2K\u001b[2mPrepared \u001b[1m1 package\u001b[0m \u001b[2min 196ms\u001b[0m\u001b[0m                                              \n",
      "\u001b[2mUninstalled \u001b[1m1 package\u001b[0m \u001b[2min 13ms\u001b[0m\u001b[0m\n",
      "\u001b[2K\u001b[2mInstalled \u001b[1m36 packages\u001b[0m \u001b[2min 21ms\u001b[0m\u001b[0m                               \u001b[0m\n",
      " \u001b[32m+\u001b[39m \u001b[1mabsl-py\u001b[0m\u001b[2m==2.3.1\u001b[0m\n",
      " \u001b[32m+\u001b[39m \u001b[1marm-pytorch-utilities\u001b[0m\u001b[2m==0.4.3\u001b[0m\n",
      " \u001b[32m+\u001b[39m \u001b[1mcloudpickle\u001b[0m\u001b[2m==3.1.1\u001b[0m\n",
      " \u001b[32m+\u001b[39m \u001b[1mdacite\u001b[0m\u001b[2m==1.9.2\u001b[0m\n",
      " \u001b[32m+\u001b[39m \u001b[1mdocstring-parser\u001b[0m\u001b[2m==0.17.0\u001b[0m\n",
      " \u001b[32m+\u001b[39m \u001b[1mfarama-notifications\u001b[0m\u001b[2m==0.0.4\u001b[0m\n",
      " \u001b[32m+\u001b[39m \u001b[1mfast-kinematics\u001b[0m\u001b[2m==0.2.2\u001b[0m\n",
      " \u001b[32m+\u001b[39m \u001b[1mgitdb\u001b[0m\u001b[2m==4.0.12\u001b[0m\n",
      " \u001b[32m+\u001b[39m \u001b[1mgitpython\u001b[0m\u001b[2m==3.1.45\u001b[0m\n",
      " \u001b[32m+\u001b[39m \u001b[1mgymnasium\u001b[0m\u001b[2m==0.29.1\u001b[0m\n",
      " \u001b[32m+\u001b[39m \u001b[1mh5py\u001b[0m\u001b[2m==3.14.0\u001b[0m\n",
      " \u001b[32m+\u001b[39m \u001b[1mimageio\u001b[0m\u001b[2m==2.37.0\u001b[0m\n",
      " \u001b[32m+\u001b[39m \u001b[1mimageio-ffmpeg\u001b[0m\u001b[2m==0.6.0\u001b[0m\n",
      " \u001b[32m+\u001b[39m \u001b[1mlxml\u001b[0m\u001b[2m==6.0.1\u001b[0m\n",
      " \u001b[32m+\u001b[39m \u001b[1mmani-skill\u001b[0m\u001b[2m==3.0.0b20 (from file:///home/jezv/Projects/RL4VLA/ManiSkill)\u001b[0m\n",
      " \u001b[32m+\u001b[39m \u001b[1mmarkdown-it-py\u001b[0m\u001b[2m==4.0.0\u001b[0m\n",
      " \u001b[32m+\u001b[39m \u001b[1mmdurl\u001b[0m\u001b[2m==0.1.2\u001b[0m\n",
      " \u001b[32m+\u001b[39m \u001b[1mmplib\u001b[0m\u001b[2m==0.1.1\u001b[0m\n",
      " \u001b[31m-\u001b[39m \u001b[1mnumpy\u001b[0m\u001b[2m==2.2.6\u001b[0m\n",
      " \u001b[32m+\u001b[39m \u001b[1mnumpy\u001b[0m\u001b[2m==1.26.4\u001b[0m\n",
      " \u001b[32m+\u001b[39m \u001b[1mnvidia-ml-py\u001b[0m\u001b[2m==13.580.82\u001b[0m\n",
      " \u001b[32m+\u001b[39m \u001b[1mopencv-python\u001b[0m\u001b[2m==4.11.0.86\u001b[0m\n",
      " \u001b[32m+\u001b[39m \u001b[1mpynvml\u001b[0m\u001b[2m==13.0.1\u001b[0m\n",
      " \u001b[32m+\u001b[39m \u001b[1mpyperclip\u001b[0m\u001b[2m==1.9.0\u001b[0m\n",
      " \u001b[32m+\u001b[39m \u001b[1mpytorch-kinematics\u001b[0m\u001b[2m==0.7.5\u001b[0m\n",
      " \u001b[32m+\u001b[39m \u001b[1mpytorch-seed\u001b[0m\u001b[2m==0.2.0\u001b[0m\n",
      " \u001b[32m+\u001b[39m \u001b[1mrich\u001b[0m\u001b[2m==14.1.0\u001b[0m\n",
      " \u001b[32m+\u001b[39m \u001b[1msapien\u001b[0m\u001b[2m==3.0.0b1\u001b[0m\n",
      " \u001b[32m+\u001b[39m \u001b[1mscipy\u001b[0m\u001b[2m==1.15.3\u001b[0m\n",
      " \u001b[32m+\u001b[39m \u001b[1mshtab\u001b[0m\u001b[2m==1.7.2\u001b[0m\n",
      " \u001b[32m+\u001b[39m \u001b[1msmmap\u001b[0m\u001b[2m==5.0.2\u001b[0m\n",
      " \u001b[32m+\u001b[39m \u001b[1mtabulate\u001b[0m\u001b[2m==0.9.0\u001b[0m\n",
      " \u001b[32m+\u001b[39m \u001b[1mtoppra\u001b[0m\u001b[2m==0.6.3\u001b[0m\n",
      " \u001b[32m+\u001b[39m \u001b[1mtransforms3d\u001b[0m\u001b[2m==0.4.2\u001b[0m\n",
      " \u001b[32m+\u001b[39m \u001b[1mtrimesh\u001b[0m\u001b[2m==4.8.1\u001b[0m\n",
      " \u001b[32m+\u001b[39m \u001b[1mtypeguard\u001b[0m\u001b[2m==4.4.4\u001b[0m\n",
      " \u001b[32m+\u001b[39m \u001b[1mtyro\u001b[0m\u001b[2m==0.9.31\u001b[0m\n",
      "\u001b[2mUsing Python 3.10.12 environment at: /home/jezv/Projects/RL4VLA/.venv\u001b[0m\n",
      "\u001b[2K\u001b[2mResolved \u001b[1m1 package\u001b[0m \u001b[2min 319ms\u001b[0m\u001b[0m                                          \u001b[0m\n",
      "\u001b[2K   \u001b[36m\u001b[1mBuilding\u001b[0m\u001b[39m simpler-env\u001b[2m @ file:///home/jezv/Projects/RL4VLA/SimplerEnv\u001b[0m \n",
      "\u001b[2K\u001b[1A      \u001b[32m\u001b[1mBuilt\u001b[0m\u001b[39m simpler-env\u001b[2m @ file:///home/jezv/Projects/RL4VLA/SimplerEnv\u001b[0m\n",
      "\u001b[2K\u001b[2mPrepared \u001b[1m1 package\u001b[0m \u001b[2min 126ms\u001b[0m\u001b[0m                                              \n",
      "\u001b[2K\u001b[2mInstalled \u001b[1m1 package\u001b[0m \u001b[2min 0.81ms\u001b[0m\u001b[0mom file:///home/jezv/Projects/R\u001b[0m\n",
      " \u001b[32m+\u001b[39m \u001b[1msimpler-env\u001b[0m\u001b[2m==0.0.1 (from file:///home/jezv/Projects/RL4VLA/SimplerEnv)\u001b[0m\n"
     ]
    }
   ],
   "source": [
    "!uv sync\n",
    "!cd ManiSkill && uv pip install -e . && cd ..\n",
    "!cd SimplerEnv && uv pip install -e . && cd .."
   ]
  },
  {
   "cell_type": "code",
   "execution_count": 2,
   "id": "5f7e79d5",
   "metadata": {},
   "outputs": [],
   "source": [
    "!export CUDA_VISIBLE_DEVICES=1"
   ]
  },
  {
   "cell_type": "code",
   "execution_count": 3,
   "id": "42e7dbfc",
   "metadata": {},
   "outputs": [
    {
     "name": "stderr",
     "output_type": "stream",
     "text": [
      "/home/jezv/Projects/RL4VLA/.venv/lib/python3.10/site-packages/torch/cuda/__init__.py:63: FutureWarning: The pynvml package is deprecated. Please install nvidia-ml-py instead. If you did not install pynvml directly, please report this to the maintainers of the package that installed pynvml for you.\n",
      "  import pynvml  # type: ignore[import]\n",
      "/home/jezv/Projects/RL4VLA/.venv/lib/python3.10/site-packages/tqdm/auto.py:21: TqdmWarning: IProgress not found. Please update jupyter and ipywidgets. See https://ipywidgets.readthedocs.io/en/stable/user_install.html\n",
      "  from .autonotebook import tqdm as notebook_tqdm\n",
      "/home/jezv/Projects/RL4VLA/.venv/lib/python3.10/site-packages/sapien/__init__.py:2: UserWarning: pkg_resources is deprecated as an API. See https://setuptools.pypa.io/en/latest/pkg_resources.html. The pkg_resources package is slated for removal as early as 2025-11-30. Refrain from using this package or pin to Setuptools<81.\n",
      "  import pkg_resources\n"
     ]
    },
    {
     "name": "stdout",
     "output_type": "stream",
     "text": [
      "dict_keys(['SceneManipulation-v1', 'ArchitecTHOR_SceneManipulation-v1', 'ReplicaCAD_SceneManipulation-v1', 'ReplicaCADTidyHouseTrain_SceneManipulation-v1', 'ReplicaCADTidyHouseVal_SceneManipulation-v1', 'ReplicaCADPrepareGroceriesTrain_SceneManipulation-v1', 'ReplicaCADPrepareGroceriesVal_SceneManipulation-v1', 'ReplicaCADSetTableTrain_SceneManipulation-v1', 'ReplicaCADSetTableVal_SceneManipulation-v1', 'MS-CartpoleBalance-v1', 'MS-CartpoleSwingUp-v1', 'MS-HopperStand-v1', 'MS-HopperHop-v1', 'MS-HumanoidStand-v1', 'MS-HumanoidWalk-v1', 'MS-HumanoidRun-v1', 'MS-AntWalk-v1', 'MS-AntRun-v1', 'RotateValveLevel0-v1', 'RotateValveLevel1-v1', 'RotateValveLevel2-v1', 'RotateValveLevel3-v1', 'RotateValveLevel4-v1', 'RotateSingleObjectInHandLevel0-v1', 'RotateSingleObjectInHandLevel1-v1', 'RotateSingleObjectInHandLevel2-v1', 'RotateSingleObjectInHandLevel3-v1', 'PutCarrotOnPlateInScene-v1', 'PutEggplantInBasketScene-v1', 'StackGreenCubeOnYellowCubeBakedTexInScene-v1', 'PutSpoonOnTableClothInScene-v1', 'PutOnPlateInScene25Main-v3', 'PutOnPlateInScene25Single-v1', 'PutOnPlateInScene25MainCarrot-v3', 'PutOnPlateInScene25MainImage-v3', 'PutOnPlateInScene25VisionImage-v1', 'PutOnPlateInScene25VisionTexture03-v1', 'PutOnPlateInScene25VisionTexture05-v1', 'PutOnPlateInScene25VisionWhole03-v1', 'PutOnPlateInScene25VisionWhole05-v1', 'PutOnPlateInScene25Carrot-v1', 'PutOnPlateInScene25Instruct-v1', 'PutOnPlateInScene25Plate-v1', 'PutOnPlateInScene25MultiCarrot-v1', 'PutOnPlateInScene25MultiPlate-v1', 'PutOnPlateInScene25Position-v1', 'PutOnPlateInScene25EEPose-v1', 'PutOnPlateInScene25PositionChangeTo-v1', 'TableTopFreeDraw-v1', 'DrawTriangle-v1', 'DrawSVG-v1', 'Empty-v1', 'FMBAssembly1Easy-v1', 'UnitreeG1PlaceAppleInBowl-v1', 'UnitreeH1Stand-v1', 'UnitreeG1Stand-v1', 'UnitreeG1TransportBox-v1', 'OpenCabinetDrawer-v1', 'OpenCabinetDoor-v1', 'RoboCasaKitchen-v1', 'AnymalC-Reach-v1', 'UnitreeGo2-Reach-v1', 'AnymalC-Spin-v1', 'TriFingerRotateCubeLevel0-v1', 'TriFingerRotateCubeLevel1-v1', 'TriFingerRotateCubeLevel2-v1', 'TriFingerRotateCubeLevel3-v1', 'TriFingerRotateCubeLevel4-v1', 'AssemblingKits-v1', 'LiftPegUpright-v1', 'PegInsertionSide-v1', 'PickClutterYCB-v1', 'PickCube-v1', 'PickSingleYCB-v1', 'PlugCharger-v1', 'PullCube-v1', 'PushCube-v1', 'StackCube-v1', 'TurnFaucet-v1', 'TwoRobotPickCube-v1', 'TwoRobotStackCube-v1', 'PokeCube-v1', 'PlaceSphere-v1', 'RollBall-v1', 'PushT-v1', 'PullCubeTool-v1'])\n"
     ]
    }
   ],
   "source": [
    "from mani_skill.utils.registration import REGISTERED_ENVS\n",
    "\n",
    "print(REGISTERED_ENVS.keys())"
   ]
  },
  {
   "cell_type": "code",
   "execution_count": 4,
   "id": "da47a327",
   "metadata": {},
   "outputs": [],
   "source": [
    "tasks = ['PutCarrotOnPlateInScene-v1', 'PutOnPlateInScene25MultiCarrot-v1']"
   ]
  },
  {
   "cell_type": "code",
   "execution_count": 5,
   "id": "24f88a09",
   "metadata": {},
   "outputs": [
    {
     "name": "stderr",
     "output_type": "stream",
     "text": [
      "/home/jezv/Projects/RL4VLA/.venv/lib/python3.10/site-packages/torch/random.py:187: UserWarning: CUDA reports that you have 2 available devices, and you have used fork_rng without explicitly specifying which devices are being used. For safety, we initialize *every* CUDA device by default, which can be quite slow if you have a lot of CUDAs. If you know that you are only making use of a few CUDA devices, set the environment variable CUDA_VISIBLE_DEVICES or the 'devices' keyword argument of fork_rng with the set of devices you are actually using. For example, if you are using CPU only, set device.upper()_VISIBLE_DEVICES= or devices=[]; if you are using device 0 only, set CUDA_VISIBLE_DEVICES=0 or devices=[0].  To initialize all devices and suppress this warning, set the 'devices' keyword argument to `range(torch.cuda.device_count())`.\n",
      "  warnings.warn(message)\n",
      "/home/jezv/Projects/RL4VLA/.venv/lib/python3.10/site-packages/torch/cuda/__init__.py:283: UserWarning: \n",
      "    Found GPU1 NVIDIA GeForce GTX 1050 which is of cuda capability 6.1.\n",
      "    Minimum and Maximum cuda capability supported by this version of PyTorch is\n",
      "    (7.0) - (12.0)\n",
      "    \n",
      "  warnings.warn(\n",
      "/home/jezv/Projects/RL4VLA/.venv/lib/python3.10/site-packages/torch/cuda/__init__.py:304: UserWarning: \n",
      "    Please install PyTorch with a following CUDA\n",
      "    configurations:  12.6 following instructions at\n",
      "    https://pytorch.org/get-started/locally/\n",
      "    \n",
      "  warnings.warn(matched_cuda_warn.format(matched_arches))\n",
      "/home/jezv/Projects/RL4VLA/.venv/lib/python3.10/site-packages/torch/cuda/__init__.py:326: UserWarning: \n",
      "NVIDIA GeForce GTX 1050 with CUDA capability sm_61 is not compatible with the current PyTorch installation.\n",
      "The current PyTorch install supports CUDA capabilities sm_70 sm_75 sm_80 sm_86 sm_90 sm_100 sm_120.\n",
      "If you want to use the NVIDIA GeForce GTX 1050 GPU with PyTorch, please check the instructions at https://pytorch.org/get-started/locally/\n",
      "\n",
      "  warnings.warn(\n",
      "\u001b[33;1m2025-09-14 18:41:21,813 - mani_skill  - WARNING - No initial pose set for actor builder of bridge_carrot_generated_modified, setting to default pose q=[1,0,0,0], p=[0,0,0]. Not setting reasonable initial poses may slow down simulation, see https://github.com/haosulab/ManiSkill/issues/421.\u001b[0m\n",
      "\u001b[33;1m2025-09-14 18:41:21,823 - mani_skill  - WARNING - No initial pose set for actor builder of bridge_plate_objaverse_larger, setting to default pose q=[1,0,0,0], p=[0,0,0]. Not setting reasonable initial poses may slow down simulation, see https://github.com/haosulab/ManiSkill/issues/421.\u001b[0m\n"
     ]
    },
    {
     "name": "stdout",
     "output_type": "stream",
     "text": [
      "xyz_configs: (2104, 3, 3)\n",
      "quat_configs: (4, 2, 4)\n"
     ]
    },
    {
     "data": {
      "image/png": "[encoded data removed]",
      "text/plain": [
       "<Figure size 640x480 with 2 Axes>"
      ]
     },
     "metadata": {},
     "output_type": "display_data"
    }
   ],
   "source": [
    "import gymnasium as gym\n",
    "import matplotlib.pyplot as plt\n",
    "import numpy as np\n",
    "\n",
    "task_images = []\n",
    "\n",
    "for i,task in enumerate(tasks):\n",
    "    env = gym.make(task, \n",
    "               num_envs=1,\n",
    "               obs_mode='rgb+segmentation')\n",
    "    # env.seed(42)\n",
    "    \n",
    "    obs, reset_info = env.reset(seed = 42)\n",
    "    task_images.append(obs['sensor_data']['3rd_view_camera']['rgb'].detach().cpu().numpy()[0])\n",
    "    plt.subplot(len(tasks), 1, i+1)\n",
    "    plt.imshow(task_images[-1])\n",
    "\n",
    "\n",
    "task_images = np.array(task_images)\n",
    "plt.show()"
   ]
  },
  {
   "cell_type": "code",
   "execution_count": 6,
   "id": "bc349ab4",
   "metadata": {},
   "outputs": [],
   "source": [
    "task_questions = [\n",
    "    'What objects do you see?',\n",
    "    'What is the table made of?',\n",
    "    'What is on the table?',\n",
    "    'What can you eat on the table?',\n",
    "    'What is closest to the edge of the table?',\n",
    "    'What is most likely to fall off a table?'\n",
    "]\n",
    "task_answers = [\n",
    "    ['I see a table, a plate, a carrot and a manipuletor.', 'I see a table, a plate, a banana, a bottle and a manipuletor.'],\n",
    "    ['wood', 'Table made of something beige.'],\n",
    "    ['There is a carrot and a plate on the table.', 'There is a banana, a bottle and a plate on the table'],\n",
    "    ['I can eat a carrot.', 'I can eat a banana.'],\n",
    "    ['A carrot', 'A bottle'],\n",
    "    ['A carrot', 'A bottle']\n",
    "]"
   ]
  },
  {
   "cell_type": "code",
   "execution_count": 7,
   "id": "9168aec8",
   "metadata": {},
   "outputs": [
    {
     "name": "stderr",
     "output_type": "stream",
     "text": [
      "Fetching 2 files: 100%|██████████| 2/2 [00:00<00:00, 27324.46it/s]\n",
      "`torch_dtype` is deprecated! Use `dtype` instead!\n"
     ]
    }
   ],
   "source": [
    "import torch\n",
    "from transformers import AutoProcessor, AutoModelForImageTextToText\n",
    "from bert_score import score\n",
    "\n",
    "DEVICE = \"cuda\" if torch.cuda.is_available() else \"cpu\"\n",
    "\n",
    "processor = AutoProcessor.from_pretrained(\"HuggingFaceTB/SmolVLM-Instruct\")\n",
    "model = AutoModelForImageTextToText.from_pretrained(\n",
    "    \"HuggingFaceTB/SmolVLM-Instruct\",\n",
    "    torch_dtype=torch.bfloat16\n",
    ").to(DEVICE)"
   ]
  },
  {
   "cell_type": "code",
   "execution_count": 9,
   "id": "21d07446",
   "metadata": {},
   "outputs": [
    {
     "name": "stdout",
     "output_type": "stream",
     "text": [
      "User:<row_1_col_1><row_1_col_2><row_1_col_3><row_1_col_4>\n",
      "<row_2_col_1><row_2_col_2><row_2_col_3><row_2_col_4>\n",
      "<row_3_col_1><row_3_col_2><row_3_col_3><row_3_col_4>\n",
      "\n",
      "<global-img>What objects do you see?\n",
      "Assistant: Carrot and plate.\n",
      "I see a table, a plate, a carrot and a manipuletor.\n"
     ]
    },
    {
     "name": "stderr",
     "output_type": "stream",
     "text": [
      "Some weights of RobertaModel were not initialized from the model checkpoint at roberta-large and are newly initialized: ['pooler.dense.bias', 'pooler.dense.weight']\n",
      "You should probably TRAIN this model on a down-stream task to be able to use it for predictions and inference.\n"
     ]
    },
    {
     "name": "stdout",
     "output_type": "stream",
     "text": [
      "(tensor([0.7479]), tensor([0.8471]), tensor([0.7944]))\n",
      "User:<row_1_col_1><row_1_col_2><row_1_col_3><row_1_col_4>\n",
      "<row_2_col_1><row_2_col_2><row_2_col_3><row_2_col_4>\n",
      "<row_3_col_1><row_3_col_2><row_3_col_3><row_3_col_4>\n",
      "\n",
      "<global-img>What objects do you see?\n",
      "Assistant: Bottle, plate, banana, and a microscope.\n",
      "I see a table, a plate, a banana, a bottle and a manipuletor.\n"
     ]
    },
    {
     "name": "stderr",
     "output_type": "stream",
     "text": [
      "Some weights of RobertaModel were not initialized from the model checkpoint at roberta-large and are newly initialized: ['pooler.dense.bias', 'pooler.dense.weight']\n",
      "You should probably TRAIN this model on a down-stream task to be able to use it for predictions and inference.\n"
     ]
    },
    {
     "name": "stdout",
     "output_type": "stream",
     "text": [
      "(tensor([0.7475]), tensor([0.8969]), tensor([0.8154]))\n",
      "User:<row_1_col_1><row_1_col_2><row_1_col_3><row_1_col_4>\n",
      "<row_2_col_1><row_2_col_2><row_2_col_3><row_2_col_4>\n",
      "<row_3_col_1><row_3_col_2><row_3_col_3><row_3_col_4>\n",
      "\n",
      "<global-img>What is the table made of?\n",
      "Assistant: Wood.\n",
      "Table made of wood.\n"
     ]
    },
    {
     "name": "stderr",
     "output_type": "stream",
     "text": [
      "Some weights of RobertaModel were not initialized from the model checkpoint at roberta-large and are newly initialized: ['pooler.dense.bias', 'pooler.dense.weight']\n",
      "You should probably TRAIN this model on a down-stream task to be able to use it for predictions and inference.\n"
     ]
    },
    {
     "name": "stdout",
     "output_type": "stream",
     "text": [
      "(tensor([0.7079]), tensor([0.9137]), tensor([0.7977]))\n",
      "User:<row_1_col_1><row_1_col_2><row_1_col_3><row_1_col_4>\n",
      "<row_2_col_1><row_2_col_2><row_2_col_3><row_2_col_4>\n",
      "<row_3_col_1><row_3_col_2><row_3_col_3><row_3_col_4>\n",
      "\n",
      "<global-img>What is the table made of?\n",
      "Assistant: Wood.\n",
      "Table made of something beige.\n"
     ]
    },
    {
     "name": "stderr",
     "output_type": "stream",
     "text": [
      "Some weights of RobertaModel were not initialized from the model checkpoint at roberta-large and are newly initialized: ['pooler.dense.bias', 'pooler.dense.weight']\n",
      "You should probably TRAIN this model on a down-stream task to be able to use it for predictions and inference.\n"
     ]
    },
    {
     "name": "stdout",
     "output_type": "stream",
     "text": [
      "(tensor([0.7108]), tensor([0.8661]), tensor([0.7808]))\n",
      "User:<row_1_col_1><row_1_col_2><row_1_col_3><row_1_col_4>\n",
      "<row_2_col_1><row_2_col_2><row_2_col_3><row_2_col_4>\n",
      "<row_3_col_1><row_3_col_2><row_3_col_3><row_3_col_4>\n",
      "\n",
      "<global-img>What is on the table?\n",
      "Assistant: Carrot and plate.\n",
      "There is a carrot and a plate on the table.\n"
     ]
    },
    {
     "name": "stderr",
     "output_type": "stream",
     "text": [
      "Some weights of RobertaModel were not initialized from the model checkpoint at roberta-large and are newly initialized: ['pooler.dense.bias', 'pooler.dense.weight']\n",
      "You should probably TRAIN this model on a down-stream task to be able to use it for predictions and inference.\n"
     ]
    },
    {
     "name": "stdout",
     "output_type": "stream",
     "text": [
      "(tensor([0.7289]), tensor([0.9019]), tensor([0.8062]))\n",
      "User:<row_1_col_1><row_1_col_2><row_1_col_3><row_1_col_4>\n",
      "<row_2_col_1><row_2_col_2><row_2_col_3><row_2_col_4>\n",
      "<row_3_col_1><row_3_col_2><row_3_col_3><row_3_col_4>\n",
      "\n",
      "<global-img>What is on the table?\n",
      "Assistant: Bottle, plate, and bananas\n",
      "There is a banana, a bottle and a plate on the table\n"
     ]
    },
    {
     "name": "stderr",
     "output_type": "stream",
     "text": [
      "Some weights of RobertaModel were not initialized from the model checkpoint at roberta-large and are newly initialized: ['pooler.dense.bias', 'pooler.dense.weight']\n",
      "You should probably TRAIN this model on a down-stream task to be able to use it for predictions and inference.\n"
     ]
    },
    {
     "name": "stdout",
     "output_type": "stream",
     "text": [
      "(tensor([0.7361]), tensor([0.9016]), tensor([0.8105]))\n",
      "User:<row_1_col_1><row_1_col_2><row_1_col_3><row_1_col_4>\n",
      "<row_2_col_1><row_2_col_2><row_2_col_3><row_2_col_4>\n",
      "<row_3_col_1><row_3_col_2><row_3_col_3><row_3_col_4>\n",
      "\n",
      "<global-img>What can you eat on the table?\n",
      "Assistant: Carrot.\n",
      "I can eat a carrot.\n"
     ]
    },
    {
     "name": "stderr",
     "output_type": "stream",
     "text": [
      "Some weights of RobertaModel were not initialized from the model checkpoint at roberta-large and are newly initialized: ['pooler.dense.bias', 'pooler.dense.weight']\n",
      "You should probably TRAIN this model on a down-stream task to be able to use it for predictions and inference.\n"
     ]
    },
    {
     "name": "stdout",
     "output_type": "stream",
     "text": [
      "(tensor([0.7149]), tensor([0.9009]), tensor([0.7972]))\n",
      "User:<row_1_col_1><row_1_col_2><row_1_col_3><row_1_col_4>\n",
      "<row_2_col_1><row_2_col_2><row_2_col_3><row_2_col_4>\n",
      "<row_3_col_1><row_3_col_2><row_3_col_3><row_3_col_4>\n",
      "\n",
      "<global-img>What can you eat on the table?\n",
      "Assistant: Banana.\n",
      "I can eat a banana.\n"
     ]
    },
    {
     "name": "stderr",
     "output_type": "stream",
     "text": [
      "Some weights of RobertaModel were not initialized from the model checkpoint at roberta-large and are newly initialized: ['pooler.dense.bias', 'pooler.dense.weight']\n",
      "You should probably TRAIN this model on a down-stream task to be able to use it for predictions and inference.\n"
     ]
    },
    {
     "name": "stdout",
     "output_type": "stream",
     "text": [
      "(tensor([0.7141]), tensor([0.8979]), tensor([0.7955]))\n",
      "User:<row_1_col_1><row_1_col_2><row_1_col_3><row_1_col_4>\n",
      "<row_2_col_1><row_2_col_2><row_2_col_3><row_2_col_4>\n",
      "<row_3_col_1><row_3_col_2><row_3_col_3><row_3_col_4>\n",
      "\n",
      "<global-img>What is closest to the edge of the table?\n",
      "Assistant: Carrot.\n",
      "A carrot\n"
     ]
    },
    {
     "name": "stderr",
     "output_type": "stream",
     "text": [
      "Some weights of RobertaModel were not initialized from the model checkpoint at roberta-large and are newly initialized: ['pooler.dense.bias', 'pooler.dense.weight']\n",
      "You should probably TRAIN this model on a down-stream task to be able to use it for predictions and inference.\n"
     ]
    },
    {
     "name": "stdout",
     "output_type": "stream",
     "text": [
      "(tensor([0.6938]), tensor([0.8814]), tensor([0.7764]))\n",
      "User:<row_1_col_1><row_1_col_2><row_1_col_3><row_1_col_4>\n",
      "<row_2_col_1><row_2_col_2><row_2_col_3><row_2_col_4>\n",
      "<row_3_col_1><row_3_col_2><row_3_col_3><row_3_col_4>\n",
      "\n",
      "<global-img>What is closest to the edge of the table?\n",
      "Assistant: Bottle.\n",
      "A bootle\n"
     ]
    },
    {
     "name": "stderr",
     "output_type": "stream",
     "text": [
      "Some weights of RobertaModel were not initialized from the model checkpoint at roberta-large and are newly initialized: ['pooler.dense.bias', 'pooler.dense.weight']\n",
      "You should probably TRAIN this model on a down-stream task to be able to use it for predictions and inference.\n"
     ]
    },
    {
     "name": "stdout",
     "output_type": "stream",
     "text": [
      "(tensor([0.6935]), tensor([0.8148]), tensor([0.7493]))\n",
      "User:<row_1_col_1><row_1_col_2><row_1_col_3><row_1_col_4>\n",
      "<row_2_col_1><row_2_col_2><row_2_col_3><row_2_col_4>\n",
      "<row_3_col_1><row_3_col_2><row_3_col_3><row_3_col_4>\n",
      "\n",
      "<global-img>What is most likely to fall off a table?\n",
      "Assistant: Carrot.\n",
      "A carrot\n"
     ]
    },
    {
     "name": "stderr",
     "output_type": "stream",
     "text": [
      "Some weights of RobertaModel were not initialized from the model checkpoint at roberta-large and are newly initialized: ['pooler.dense.bias', 'pooler.dense.weight']\n",
      "You should probably TRAIN this model on a down-stream task to be able to use it for predictions and inference.\n"
     ]
    },
    {
     "name": "stdout",
     "output_type": "stream",
     "text": [
      "(tensor([0.6911]), tensor([0.8765]), tensor([0.7728]))\n",
      "User:<row_1_col_1><row_1_col_2><row_1_col_3><row_1_col_4>\n",
      "<row_2_col_1><row_2_col_2><row_2_col_3><row_2_col_4>\n",
      "<row_3_col_1><row_3_col_2><row_3_col_3><row_3_col_4>\n",
      "\n",
      "<global-img>What is most likely to fall off a table?\n",
      "Assistant: Banana.\n",
      "A bootle\n"
     ]
    },
    {
     "name": "stderr",
     "output_type": "stream",
     "text": [
      "Some weights of RobertaModel were not initialized from the model checkpoint at roberta-large and are newly initialized: ['pooler.dense.bias', 'pooler.dense.weight']\n",
      "You should probably TRAIN this model on a down-stream task to be able to use it for predictions and inference.\n"
     ]
    },
    {
     "name": "stdout",
     "output_type": "stream",
     "text": [
      "(tensor([0.6887]), tensor([0.8022]), tensor([0.7412]))\n"
     ]
    }
   ],
   "source": [
    "for question, answer in zip(task_questions, task_answers):\n",
    "    for i,image in enumerate(task_images):\n",
    "        messages = [\n",
    "            {\n",
    "                \"role\": \"user\",\n",
    "                \"content\": [\n",
    "                    {\"type\": \"image\"},\n",
    "                    {\"type\": \"text\", 'text': question}\n",
    "                ]\n",
    "            },\n",
    "        ]\n",
    "\n",
    "        prompt = processor.apply_chat_template(messages, add_generation_prompt=True)\n",
    "        inputs = processor(text=prompt, images=[image], return_tensors=\"pt\")\n",
    "        inputs = inputs.to(DEVICE)\n",
    "        \n",
    "        generated_ids = model.generate(**inputs, max_new_tokens=500)\n",
    "        generated_texts = processor.batch_decode(\n",
    "            generated_ids,\n",
    "            skip_special_tokens=True,\n",
    "        )\n",
    "\n",
    "        print(generated_texts[0])\n",
    "        print(answer[i])\n",
    "        results = score(generated_texts, [answer[i]], lang='en')\n",
    "        print(results)\n"
   ]
  },
  {
   "cell_type": "code",
   "execution_count": null,
   "id": "0afc854d",
   "metadata": {},
   "outputs": [
    {
     "name": "stdout",
     "output_type": "stream",
     "text": [
      "Assistant: Carrot and plate.\n",
      "I see a table, a plate, a carrot and a manipuletor.\n",
      "User:<row_1_col_1><row_1_col_2><row_1_col_3><row_1_col_4>\n",
      "<row_2_col_1><row_2_col_2><row_2_col_3><row_2_col_4>\n",
      "<row_3_col_1><row_3_col_2><row_3_col_3><row_3_col_4>\n",
      "\n",
      "<global-img>What objects do you see?\n",
      "Assistant: User:<row_1_col_1><row_1_col_2><row_1_col_3><row_1_col_4>\n",
      "<row_2_col_1><row_2_col_2><row_2_col_3><row_2_col_4>\n",
      "<row_3_col_1><row_3_col_2><row_3_col_3><row_3_col_4>\n",
      "\n",
      "<global-img>What objects do you see?\n",
      "Assistant: Carrot and plate.\n",
      "User: Right answer was: I see a table, a plate, a carrot and a manipuletor..Do you think you answered correctly? Your answer does not have to match exactly, but semantically. Answer: [Yes/No]\n",
      "Assistant: No.\n",
      "Assistant: No.\n",
      "Assistant: Bottle, plate, banana, and a microscope.\n",
      "I see a table, a plate, a banana, a bottle and a manipuletor.\n",
      "User:<row_1_col_1><row_1_col_2><row_1_col_3><row_1_col_4>\n",
      "<row_2_col_1><row_2_col_2><row_2_col_3><row_2_col_4>\n",
      "<row_3_col_1><row_3_col_2><row_3_col_3><row_3_col_4>\n",
      "\n",
      "<global-img>What objects do you see?\n",
      "Assistant: User:<row_1_col_1><row_1_col_2><row_1_col_3><row_1_col_4>\n",
      "<row_2_col_1><row_2_col_2><row_2_col_3><row_2_col_4>\n",
      "<row_3_col_1><row_3_col_2><row_3_col_3><row_3_col_4>\n",
      "\n",
      "<global-img>What objects do you see?\n",
      "Assistant: Bottle, plate, banana, and a microscope.\n",
      "User: Right answer was: I see a table, a plate, a banana, a bottle and a manipuletor..Do you think you answered correctly? Your answer does not have to match exactly, but semantically. Answer: [Yes/No]\n",
      "Assistant: No.\n",
      "Assistant: No.\n",
      "Assistant: Wood.\n",
      "wood\n",
      "User:<row_1_col_1><row_1_col_2><row_1_col_3><row_1_col_4>\n",
      "<row_2_col_1><row_2_col_2><row_2_col_3><row_2_col_4>\n",
      "<row_3_col_1><row_3_col_2><row_3_col_3><row_3_col_4>\n",
      "\n",
      "<global-img>What is the table made of?\n",
      "Assistant: User:<row_1_col_1><row_1_col_2><row_1_col_3><row_1_col_4>\n",
      "<row_2_col_1><row_2_col_2><row_2_col_3><row_2_col_4>\n",
      "<row_3_col_1><row_3_col_2><row_3_col_3><row_3_col_4>\n",
      "\n",
      "<global-img>What is the table made of?\n",
      "Assistant: Wood.\n",
      "User: Right answer was: wood.Do you think you answered correctly? Your answer does not have to match exactly, but semantically. Answer: [Yes/No]\n",
      "Assistant: No.\n",
      "Assistant: No.\n",
      "Assistant: Wood.\n",
      "Table made of something beige.\n",
      "User:<row_1_col_1><row_1_col_2><row_1_col_3><row_1_col_4>\n",
      "<row_2_col_1><row_2_col_2><row_2_col_3><row_2_col_4>\n",
      "<row_3_col_1><row_3_col_2><row_3_col_3><row_3_col_4>\n",
      "\n",
      "<global-img>What is the table made of?\n",
      "Assistant: User:<row_1_col_1><row_1_col_2><row_1_col_3><row_1_col_4>\n",
      "<row_2_col_1><row_2_col_2><row_2_col_3><row_2_col_4>\n",
      "<row_3_col_1><row_3_col_2><row_3_col_3><row_3_col_4>\n",
      "\n",
      "<global-img>What is the table made of?\n",
      "Assistant: Wood.\n",
      "User: Right answer was: Table made of something beige..Do you think you answered correctly? Your answer does not have to match exactly, but semantically. Answer: [Yes/No]\n",
      "Assistant: No.\n",
      "Assistant: No.\n",
      "Assistant: Carrot and plate.\n",
      "There is a carrot and a plate on the table.\n",
      "User:<row_1_col_1><row_1_col_2><row_1_col_3><row_1_col_4>\n",
      "<row_2_col_1><row_2_col_2><row_2_col_3><row_2_col_4>\n",
      "<row_3_col_1><row_3_col_2><row_3_col_3><row_3_col_4>\n",
      "\n",
      "<global-img>What is on the table?\n",
      "Assistant: User:<row_1_col_1><row_1_col_2><row_1_col_3><row_1_col_4>\n",
      "<row_2_col_1><row_2_col_2><row_2_col_3><row_2_col_4>\n",
      "<row_3_col_1><row_3_col_2><row_3_col_3><row_3_col_4>\n",
      "\n",
      "<global-img>What is on the table?\n",
      "Assistant: Carrot and plate.\n",
      "User: Right answer was: There is a carrot and a plate on the table..Do you think you answered correctly? Your answer does not have to match exactly, but semantically. Answer: [Yes/No]\n",
      "Assistant: No.\n",
      "Assistant: No.\n",
      "Assistant: Bottle, plate, and bananas\n",
      "There is a banana, a bottle and a plate on the table\n",
      "User:<row_1_col_1><row_1_col_2><row_1_col_3><row_1_col_4>\n",
      "<row_2_col_1><row_2_col_2><row_2_col_3><row_2_col_4>\n",
      "<row_3_col_1><row_3_col_2><row_3_col_3><row_3_col_4>\n",
      "\n",
      "<global-img>What is on the table?\n",
      "Assistant: User:<row_1_col_1><row_1_col_2><row_1_col_3><row_1_col_4>\n",
      "<row_2_col_1><row_2_col_2><row_2_col_3><row_2_col_4>\n",
      "<row_3_col_1><row_3_col_2><row_3_col_3><row_3_col_4>\n",
      "\n",
      "<global-img>What is on the table?\n",
      "Assistant: Bottle, plate, and bananas\n",
      "User: Right answer was: There is a banana, a bottle and a plate on the table.Do you think you answered correctly? Your answer does not have to match exactly, but semantically. Answer: [Yes/No]\n",
      "Assistant: No.\n",
      "Assistant: No.\n",
      "Assistant: Carrot.\n",
      "I can eat a carrot.\n",
      "User:<row_1_col_1><row_1_col_2><row_1_col_3><row_1_col_4>\n",
      "<row_2_col_1><row_2_col_2><row_2_col_3><row_2_col_4>\n",
      "<row_3_col_1><row_3_col_2><row_3_col_3><row_3_col_4>\n",
      "\n",
      "<global-img>What can you eat on the table?\n",
      "Assistant: User:<row_1_col_1><row_1_col_2><row_1_col_3><row_1_col_4>\n",
      "<row_2_col_1><row_2_col_2><row_2_col_3><row_2_col_4>\n",
      "<row_3_col_1><row_3_col_2><row_3_col_3><row_3_col_4>\n",
      "\n",
      "<global-img>What can you eat on the table?\n",
      "Assistant: Carrot.\n",
      "User: Right answer was: I can eat a carrot..Do you think you answered correctly? Your answer does not have to match exactly, but semantically. Answer: [Yes/No]\n",
      "Assistant: No.\n",
      "Assistant: No.\n",
      "Assistant: Banana.\n",
      "I can eat a banana.\n",
      "User:<row_1_col_1><row_1_col_2><row_1_col_3><row_1_col_4>\n",
      "<row_2_col_1><row_2_col_2><row_2_col_3><row_2_col_4>\n",
      "<row_3_col_1><row_3_col_2><row_3_col_3><row_3_col_4>\n",
      "\n",
      "<global-img>What can you eat on the table?\n",
      "Assistant: User:<row_1_col_1><row_1_col_2><row_1_col_3><row_1_col_4>\n",
      "<row_2_col_1><row_2_col_2><row_2_col_3><row_2_col_4>\n",
      "<row_3_col_1><row_3_col_2><row_3_col_3><row_3_col_4>\n",
      "\n",
      "<global-img>What can you eat on the table?\n",
      "Assistant: Banana.\n",
      "User: Right answer was: I can eat a banana..Do you think you answered correctly? Your answer does not have to match exactly, but semantically. Answer: [Yes/No]\n",
      "Assistant: No.\n",
      "Assistant: No.\n",
      "Assistant: Carrot.\n",
      "A carrot\n",
      "User:<row_1_col_1><row_1_col_2><row_1_col_3><row_1_col_4>\n",
      "<row_2_col_1><row_2_col_2><row_2_col_3><row_2_col_4>\n",
      "<row_3_col_1><row_3_col_2><row_3_col_3><row_3_col_4>\n",
      "\n",
      "<global-img>What is closest to the edge of the table?\n",
      "Assistant: User:<row_1_col_1><row_1_col_2><row_1_col_3><row_1_col_4>\n",
      "<row_2_col_1><row_2_col_2><row_2_col_3><row_2_col_4>\n",
      "<row_3_col_1><row_3_col_2><row_3_col_3><row_3_col_4>\n",
      "\n",
      "<global-img>What is closest to the edge of the table?\n",
      "Assistant: Carrot.\n",
      "User: Right answer was: A carrot.Do you think you answered correctly? Your answer does not have to match exactly, but semantically. Answer: [Yes/No]\n",
      "Assistant: No.\n",
      "Assistant: No.\n",
      "Assistant: Bottle.\n",
      "A bottle\n",
      "User:<row_1_col_1><row_1_col_2><row_1_col_3><row_1_col_4>\n",
      "<row_2_col_1><row_2_col_2><row_2_col_3><row_2_col_4>\n",
      "<row_3_col_1><row_3_col_2><row_3_col_3><row_3_col_4>\n",
      "\n",
      "<global-img>What is closest to the edge of the table?\n",
      "Assistant: User:<row_1_col_1><row_1_col_2><row_1_col_3><row_1_col_4>\n",
      "<row_2_col_1><row_2_col_2><row_2_col_3><row_2_col_4>\n",
      "<row_3_col_1><row_3_col_2><row_3_col_3><row_3_col_4>\n",
      "\n",
      "<global-img>What is closest to the edge of the table?\n",
      "Assistant: Bottle.\n",
      "User: Right answer was: A bottle.Do you think you answered correctly? Your answer does not have to match exactly, but semantically. Answer: [Yes/No]\n",
      "Assistant: No.\n",
      "Assistant: No.\n",
      "Assistant: Carrot.\n",
      "A carrot\n",
      "User:<row_1_col_1><row_1_col_2><row_1_col_3><row_1_col_4>\n",
      "<row_2_col_1><row_2_col_2><row_2_col_3><row_2_col_4>\n",
      "<row_3_col_1><row_3_col_2><row_3_col_3><row_3_col_4>\n",
      "\n",
      "<global-img>What is most likely to fall off a table?\n",
      "Assistant: User:<row_1_col_1><row_1_col_2><row_1_col_3><row_1_col_4>\n",
      "<row_2_col_1><row_2_col_2><row_2_col_3><row_2_col_4>\n",
      "<row_3_col_1><row_3_col_2><row_3_col_3><row_3_col_4>\n",
      "\n",
      "<global-img>What is most likely to fall off a table?\n",
      "Assistant: Carrot.\n",
      "User: Right answer was: A carrot.Do you think you answered correctly? Your answer does not have to match exactly, but semantically. Answer: [Yes/No]\n",
      "Assistant: No.\n",
      "Assistant: No.\n",
      "Assistant: Banana.\n",
      "A bottle\n",
      "User:<row_1_col_1><row_1_col_2><row_1_col_3><row_1_col_4>\n",
      "<row_2_col_1><row_2_col_2><row_2_col_3><row_2_col_4>\n",
      "<row_3_col_1><row_3_col_2><row_3_col_3><row_3_col_4>\n",
      "\n",
      "<global-img>What is most likely to fall off a table?\n",
      "Assistant: User:<row_1_col_1><row_1_col_2><row_1_col_3><row_1_col_4>\n",
      "<row_2_col_1><row_2_col_2><row_2_col_3><row_2_col_4>\n",
      "<row_3_col_1><row_3_col_2><row_3_col_3><row_3_col_4>\n",
      "\n",
      "<global-img>What is most likely to fall off a table?\n",
      "Assistant: Banana.\n",
      "User: Right answer was: A bottle.Do you think you answered correctly? Your answer does not have to match exactly, but semantically. Answer: [Yes/No]\n",
      "Assistant: No.\n",
      "Assistant: No.\n"
     ]
    }
   ],
   "source": [
    "for question, answer in zip(task_questions, task_answers):\n",
    "    for i,image in enumerate(task_images):\n",
    "        messages = [\n",
    "            {\n",
    "                \"role\": \"user\",\n",
    "                \"content\": [\n",
    "                    {\"type\": \"image\"},\n",
    "                    {\"type\": \"text\", 'text': question}\n",
    "                ]\n",
    "            },\n",
    "        ]\n",
    "\n",
    "        prompt = processor.apply_chat_template(messages, add_generation_prompt=True)\n",
    "        inputs = processor(text=prompt, images=[image], return_tensors=\"pt\")\n",
    "        inputs = inputs.to(DEVICE)\n",
    "        \n",
    "        generated_ids = model.generate(**inputs, max_new_tokens=500)\n",
    "        generated_texts = processor.batch_decode(\n",
    "            generated_ids,\n",
    "            skip_special_tokens=True,\n",
    "        )\n",
    "        print(generated_texts[0].split('\\n')[-1])\n",
    "        print(answer[i])\n",
    "\n",
    "        messages += [\n",
    "            {\n",
    "                \"role\": \"assistant\",\n",
    "                \"content\": [\n",
    "                    {\"type\": \"text\", 'text': generated_texts[0]}\n",
    "                ]\n",
    "            },\n",
    "            {\n",
    "                \"role\": \"user\",\n",
    "                \"content\": [\n",
    "                    {\"type\": \"text\", 'text': f\"Right answer was: {answer[i]}. Do you think you answered correctly? Your answer does not have to match exactly, but semantically. Answer: [Yes/No]\"}\n",
    "                ]\n",
    "            },\n",
    "        ]\n",
    "\n",
    "        prompt = processor.apply_chat_template(messages, add_generation_prompt=True)\n",
    "        inputs = processor(text=prompt, images=[image], return_tensors=\"pt\")\n",
    "        inputs = inputs.to(DEVICE)\n",
    "        \n",
    "        generated_ids = model.generate(**inputs, max_new_tokens=500)\n",
    "        generated_texts = processor.batch_decode(\n",
    "            generated_ids,\n",
    "            skip_special_tokens=True,\n",
    "        )\n",
    "\n",
    "        print(generated_texts[0])\n",
    "        print(generated_texts[0].split('\\n')[-1])"
   ]
  },
  {
   "cell_type": "code",
   "execution_count": 13,
   "id": "70c64ce9",
   "metadata": {},
   "outputs": [],
   "source": [
    "task_questions = [\n",
    "    'What objects do you see?',\n",
    "    'What is the table made of?',\n",
    "    'What is on the table?',\n",
    "    'What can you eat on the table?',\n",
    "    'What is closest to the edge of the table?',\n",
    "    'What is most likely to fall off a table?'\n",
    "]\n",
    "task_answers = [\n",
    "    [('table', 'plate', 'carrot', 'manipulator'), ('table', 'plate', 'banana', 'bottle', 'manipulator')],\n",
    "    [('wood'), ('wood')],\n",
    "    [('carrot', 'plate'), ('banana', 'bottle', 'plate')],\n",
    "    [('carrot'), ('banana')],\n",
    "    [('carrot'), ('bottle')],\n",
    "    [('carrot'), ('bottle')]\n",
    "]"
   ]
  },
  {
   "cell_type": "code",
   "execution_count": 17,
   "id": "462594f2",
   "metadata": {},
   "outputs": [
    {
     "name": "stdout",
     "output_type": "stream",
     "text": [
      "False\n",
      "Assistant: Carrot and plate.\n",
      "('table', 'plate', 'carrot', 'manipulator')\n",
      "False\n",
      "Assistant: Bottle, plate, banana, and a microscope.\n",
      "('table', 'plate', 'banana', 'bottle', 'manipulator')\n",
      "True\n",
      "Assistant: Wood.\n",
      "wood\n",
      "True\n",
      "Assistant: Wood.\n",
      "wood\n",
      "True\n",
      "Assistant: Carrot and plate.\n",
      "('carrot', 'plate')\n",
      "True\n",
      "Assistant: Bottle, plate, and bananas\n",
      "('banana', 'bottle', 'plate')\n",
      "True\n",
      "Assistant: Carrot.\n",
      "carrot\n",
      "True\n",
      "Assistant: Banana.\n",
      "banana\n",
      "True\n",
      "Assistant: Carrot.\n",
      "carrot\n",
      "True\n",
      "Assistant: Bottle.\n",
      "bottle\n",
      "True\n",
      "Assistant: Carrot.\n",
      "carrot\n",
      "False\n",
      "Assistant: Banana.\n",
      "bottle\n",
      "==============================\n",
      "75.00%\n"
     ]
    }
   ],
   "source": [
    "corrects = 0\n",
    "\n",
    "for question, answer in zip(task_questions, task_answers):\n",
    "    for i,image in enumerate(task_images):\n",
    "        messages = [\n",
    "            {\n",
    "                \"role\": \"user\",\n",
    "                \"content\": [\n",
    "                    {\"type\": \"image\"},\n",
    "                    {\"type\": \"text\", 'text': question}\n",
    "                ]\n",
    "            },\n",
    "        ]\n",
    "\n",
    "        prompt = processor.apply_chat_template(messages, add_generation_prompt=True)\n",
    "        inputs = processor(text=prompt, images=[image], return_tensors=\"pt\")\n",
    "        inputs = inputs.to(DEVICE)\n",
    "        \n",
    "        generated_ids = model.generate(**inputs, max_new_tokens=500)\n",
    "        generated_texts = processor.batch_decode(\n",
    "            generated_ids,\n",
    "            skip_special_tokens=True,\n",
    "        )\n",
    "\n",
    "        correct = True\n",
    "        for keyword in answer[i]:\n",
    "            correct &= keyword in generated_texts[0].split('\\n')[-1].lower()\n",
    "        if correct: corrects += 1\n",
    "\n",
    "        print(correct)\n",
    "        print(generated_texts[0].split('\\n')[-1])\n",
    "        print(answer[i])\n",
    "\n",
    "SR = corrects / (len(task_questions)*len(task_images))\n",
    "print('='*30)\n",
    "print(f'{SR*100:.2f}%')"
   ]
  },
  {
   "cell_type": "code",
   "execution_count": null,
   "id": "443463ac",
   "metadata": {},
   "outputs": [],
   "source": []
  }
 ],
 "metadata": {
  "kernelspec": {
   "display_name": "rl4vla",
   "language": "python",
   "name": "python3"
  },
  "language_info": {
   "codemirror_mode": {
    "name": "ipython",
    "version": 3
   },
   "file_extension": ".py",
   "mimetype": "text/x-python",
   "name": "python",
   "nbconvert_exporter": "python",
   "pygments_lexer": "ipython3",
   "version": "3.10.12"
  }
 },
 "nbformat": 4,
 "nbformat_minor": 5
}
